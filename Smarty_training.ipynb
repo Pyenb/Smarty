{
  "cells": [
    {
      "cell_type": "markdown",
      "metadata": {
        "id": "view-in-github",
        "colab_type": "text"
      },
      "source": [
        "<a href=\"https://colab.research.google.com/github/Pyenb/Smarty/blob/master/Smarty_training.ipynb\" target=\"_parent\"><img src=\"https://colab.research.google.com/assets/colab-badge.svg\" alt=\"Open In Colab\"/></a>"
      ]
    },
    {
      "cell_type": "code",
      "source": [
        "!pip3 install -q -r /content/drive/MyDrive/Programmieren/Python/Smarty/requirements.txt"
      ],
      "metadata": {
        "id": "xN71aJj-mXSS"
      },
      "execution_count": null,
      "outputs": []
    },
    {
      "cell_type": "code",
      "source": [
        "%run /content/drive/MyDrive/Programmieren/Python/Smarty/data-collection/youtube_analysis.py"
      ],
      "metadata": {
        "id": "nJN-aGx1CLN1"
      },
      "execution_count": null,
      "outputs": []
    },
    {
      "cell_type": "code",
      "execution_count": null,
      "metadata": {
        "id": "LR10SGiXBHJQ"
      },
      "outputs": [],
      "source": [
        "%run /content/drive/MyDrive/Programmieren/Python/Smarty/train.py"
      ]
    }
  ],
  "metadata": {
    "colab": {
      "provenance": [],
      "gpuType": "A100",
      "mount_file_id": "14x00J_pYpeYsOFbe9O0uHfHOWy7dl7R1",
      "authorship_tag": "ABX9TyNSWx3cTd/mJm7A0iQ8F0De",
      "include_colab_link": true
    },
    "gpuClass": "standard",
    "kernelspec": {
      "display_name": "Python 3",
      "name": "python3"
    },
    "language_info": {
      "name": "python"
    },
    "accelerator": "GPU"
  },
  "nbformat": 4,
  "nbformat_minor": 0
}